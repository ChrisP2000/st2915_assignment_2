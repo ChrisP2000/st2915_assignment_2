{
 "cells": [
  {
   "cell_type": "code",
   "execution_count": 30,
   "id": "42df59a7",
   "metadata": {},
   "outputs": [],
   "source": [
    "\n",
    "import pandas as pd\n",
    "\n",
    "url =\"https://en.wikipedia.org/wiki/Comma-separated_values\"\n",
    "\n",
    "allTables= pd.read_html(url)\n",
    "len(allTables)\n",
    "\n",
    "carsTable = allTables[1]\n",
    "carsTable.head()\n",
    "\n",
    "carsTableCsv= pd.DataFrame(carsTable)\n",
    "carsTableCsv.to_csv(r'/Users/christopherpang/Desktop/Main/SIM uni year 2/Programming for data science/R coding /assignment 2/python_carstable.csv', index=False, header=True)\n"
   ]
  }
 ],
 "metadata": {
  "kernelspec": {
   "display_name": "Python 3 (ipykernel)",
   "language": "python",
   "name": "python3"
  },
  "language_info": {
   "codemirror_mode": {
    "name": "ipython",
    "version": 3
   },
   "file_extension": ".py",
   "mimetype": "text/x-python",
   "name": "python",
   "nbconvert_exporter": "python",
   "pygments_lexer": "ipython3",
   "version": "3.11.4"
  }
 },
 "nbformat": 4,
 "nbformat_minor": 5
}
